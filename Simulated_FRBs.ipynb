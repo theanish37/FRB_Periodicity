{
 "cells": [
  {
   "cell_type": "code",
   "execution_count": 1,
   "metadata": {},
   "outputs": [],
   "source": [
    "import numpy as np\n",
    "import random\n",
    "import matplotlib.pyplot as plt\n",
    "import pandas as pd"
   ]
  },
  {
   "cell_type": "code",
   "execution_count": 18,
   "metadata": {},
   "outputs": [],
   "source": [
    "n=1000\n",
    "s=5"
   ]
  },
  {
   "cell_type": "code",
   "execution_count": 19,
   "metadata": {},
   "outputs": [],
   "source": [
    "np.random.seed(s)\n",
    "RA=np.random.uniform(0, 359.99, n)\n",
    "Dec=np.random.uniform(-90, 89.99, n)\n",
    "period=np.random.uniform(1, 200, n) #period in days\n",
    "d_cycle=np.random.uniform(0.1,0.5, n) #duty cycle  \n",
    "s_phase=np.random.uniform(0, 0.999, n) #start phase\n",
    "name=[(\"sample_%d\"%i) for i in range(n)]"
   ]
  },
  {
   "cell_type": "code",
   "execution_count": 20,
   "metadata": {},
   "outputs": [
    {
     "data": {
      "text/html": [
       "<div>\n",
       "<style scoped>\n",
       "    .dataframe tbody tr th:only-of-type {\n",
       "        vertical-align: middle;\n",
       "    }\n",
       "\n",
       "    .dataframe tbody tr th {\n",
       "        vertical-align: top;\n",
       "    }\n",
       "\n",
       "    .dataframe thead th {\n",
       "        text-align: right;\n",
       "    }\n",
       "</style>\n",
       "<table border=\"1\" class=\"dataframe\">\n",
       "  <thead>\n",
       "    <tr style=\"text-align: right;\">\n",
       "      <th></th>\n",
       "      <th>Name</th>\n",
       "      <th>RA</th>\n",
       "      <th>Dec</th>\n",
       "      <th>Period</th>\n",
       "      <th>Duty_cycle</th>\n",
       "      <th>phase</th>\n",
       "    </tr>\n",
       "  </thead>\n",
       "  <tbody>\n",
       "    <tr>\n",
       "      <th>0</th>\n",
       "      <td>sample_0</td>\n",
       "      <td>79.915322</td>\n",
       "      <td>38.917144</td>\n",
       "      <td>157.008117</td>\n",
       "      <td>0.157126</td>\n",
       "      <td>0.485992</td>\n",
       "    </tr>\n",
       "    <tr>\n",
       "      <th>1</th>\n",
       "      <td>sample_1</td>\n",
       "      <td>313.454923</td>\n",
       "      <td>25.879332</td>\n",
       "      <td>92.338738</td>\n",
       "      <td>0.331295</td>\n",
       "      <td>0.161846</td>\n",
       "    </tr>\n",
       "    <tr>\n",
       "      <th>2</th>\n",
       "      <td>sample_2</td>\n",
       "      <td>74.416829</td>\n",
       "      <td>-84.157788</td>\n",
       "      <td>124.004563</td>\n",
       "      <td>0.122134</td>\n",
       "      <td>0.415562</td>\n",
       "    </tr>\n",
       "    <tr>\n",
       "      <th>3</th>\n",
       "      <td>sample_3</td>\n",
       "      <td>330.690741</td>\n",
       "      <td>-87.386183</td>\n",
       "      <td>127.422633</td>\n",
       "      <td>0.115164</td>\n",
       "      <td>0.143796</td>\n",
       "    </tr>\n",
       "    <tr>\n",
       "      <th>4</th>\n",
       "      <td>sample_4</td>\n",
       "      <td>175.823144</td>\n",
       "      <td>1.548443</td>\n",
       "      <td>114.784066</td>\n",
       "      <td>0.414072</td>\n",
       "      <td>0.433331</td>\n",
       "    </tr>\n",
       "    <tr>\n",
       "      <th>...</th>\n",
       "      <td>...</td>\n",
       "      <td>...</td>\n",
       "      <td>...</td>\n",
       "      <td>...</td>\n",
       "      <td>...</td>\n",
       "      <td>...</td>\n",
       "    </tr>\n",
       "    <tr>\n",
       "      <th>995</th>\n",
       "      <td>sample_995</td>\n",
       "      <td>16.980657</td>\n",
       "      <td>-32.955839</td>\n",
       "      <td>11.646966</td>\n",
       "      <td>0.361954</td>\n",
       "      <td>0.093755</td>\n",
       "    </tr>\n",
       "    <tr>\n",
       "      <th>996</th>\n",
       "      <td>sample_996</td>\n",
       "      <td>239.653670</td>\n",
       "      <td>68.116875</td>\n",
       "      <td>61.108643</td>\n",
       "      <td>0.164639</td>\n",
       "      <td>0.240651</td>\n",
       "    </tr>\n",
       "    <tr>\n",
       "      <th>997</th>\n",
       "      <td>sample_997</td>\n",
       "      <td>313.047550</td>\n",
       "      <td>-1.751495</td>\n",
       "      <td>85.173223</td>\n",
       "      <td>0.269631</td>\n",
       "      <td>0.534387</td>\n",
       "    </tr>\n",
       "    <tr>\n",
       "      <th>998</th>\n",
       "      <td>sample_998</td>\n",
       "      <td>111.738639</td>\n",
       "      <td>4.712554</td>\n",
       "      <td>146.718034</td>\n",
       "      <td>0.401254</td>\n",
       "      <td>0.507714</td>\n",
       "    </tr>\n",
       "    <tr>\n",
       "      <th>999</th>\n",
       "      <td>sample_999</td>\n",
       "      <td>284.605608</td>\n",
       "      <td>-17.385152</td>\n",
       "      <td>112.629677</td>\n",
       "      <td>0.173134</td>\n",
       "      <td>0.520498</td>\n",
       "    </tr>\n",
       "  </tbody>\n",
       "</table>\n",
       "<p>1000 rows × 6 columns</p>\n",
       "</div>"
      ],
      "text/plain": [
       "           Name          RA        Dec      Period  Duty_cycle     phase\n",
       "0      sample_0   79.915322  38.917144  157.008117    0.157126  0.485992\n",
       "1      sample_1  313.454923  25.879332   92.338738    0.331295  0.161846\n",
       "2      sample_2   74.416829 -84.157788  124.004563    0.122134  0.415562\n",
       "3      sample_3  330.690741 -87.386183  127.422633    0.115164  0.143796\n",
       "4      sample_4  175.823144   1.548443  114.784066    0.414072  0.433331\n",
       "..          ...         ...        ...         ...         ...       ...\n",
       "995  sample_995   16.980657 -32.955839   11.646966    0.361954  0.093755\n",
       "996  sample_996  239.653670  68.116875   61.108643    0.164639  0.240651\n",
       "997  sample_997  313.047550  -1.751495   85.173223    0.269631  0.534387\n",
       "998  sample_998  111.738639   4.712554  146.718034    0.401254  0.507714\n",
       "999  sample_999  284.605608 -17.385152  112.629677    0.173134  0.520498\n",
       "\n",
       "[1000 rows x 6 columns]"
      ]
     },
     "execution_count": 20,
     "metadata": {},
     "output_type": "execute_result"
    }
   ],
   "source": [
    "val = list(zip(name,RA, Dec,period,d_cycle,s_phase))\n",
    " \n",
    "df = pd.DataFrame(val, columns=['Name','RA', 'Dec','Period','Duty_cycle','phase'])\n",
    "df.to_csv(\"simulated_frb.csv\") \n",
    "df"
   ]
  },
  {
   "cell_type": "code",
   "execution_count": 14,
   "metadata": {},
   "outputs": [
    {
     "data": {
      "image/png": "[encoded data removed]",
      "text/plain": [
       "<Figure size 432x288 with 1 Axes>"
      ]
     },
     "metadata": {
      "needs_background": "light"
     },
     "output_type": "display_data"
    }
   ],
   "source": [
    "plt.scatter(RA,Dec,s=0.5)\n",
    "plt.title(\"FRBs in sky\")\n",
    "plt.xlabel('RA')\n",
    "plt.xticks(range(0, 360,60))\n",
    "plt.ylabel('Dec')\n",
    "plt.yticks(range(-90, 90,20))\n",
    "plt.show()"
   ]
  },
  {
   "cell_type": "code",
   "execution_count": null,
   "metadata": {},
   "outputs": [],
   "source": []
  }
 ],
 "metadata": {
  "kernelspec": {
   "display_name": "Python 3 (ipykernel)",
   "language": "python",
   "name": "python3"
  },
  "language_info": {
   "codemirror_mode": {
    "name": "ipython",
    "version": 3
   },
   "file_extension": ".py",
   "mimetype": "text/x-python",
   "name": "python",
   "nbconvert_exporter": "python",
   "pygments_lexer": "ipython3",
   "version": "3.9.12"
  }
 },
 "nbformat": 4,
 "nbformat_minor": 4
}
